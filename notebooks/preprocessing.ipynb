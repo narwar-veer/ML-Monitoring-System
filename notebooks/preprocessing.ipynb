{
 "cells": [
  {
   "cell_type": "markdown",
   "id": "b0671e47",
   "metadata": {},
   "source": [
    "# Stroke Data Preprocessing"
   ]
  },
  {
   "cell_type": "markdown",
   "id": "9c66c1bf",
   "metadata": {},
   "source": [
    "#### Importing the required dependencies!"
   ]
  },
  {
   "cell_type": "code",
   "execution_count": 1,
   "id": "d618ba74",
   "metadata": {},
   "outputs": [
    {
     "name": "stdout",
     "output_type": "stream",
     "text": [
      "Libraries Imported without any error\n"
     ]
    }
   ],
   "source": [
    "# Importing Libraries:\n",
    "import pandas as pd\n",
    "import numpy as np\n",
    "import seaborn as sns\n",
    "import matplotlib.pyplot as plt\n",
    "from sklearn.pipeline import Pipeline\n",
    "from sklearn.compose import ColumnTransformer\n",
    "from sklearn.preprocessing import StandardScaler, MinMaxScaler, RobustScaler, OneHotEncoder, LabelEncoder\n",
    "from sklearn.impute import SimpleImputer\n",
    "from sklearn.decomposition import PCA\n",
    "from sklearn_pandas import DataFrameMapper\n",
    "\n",
    "from sklearn.feature_selection import SelectKBest, chi2\n",
    "from sklearn.model_selection import train_test_split\n",
    "from sklearn.metrics import accuracy_score, classification_report\n",
    "from sklearn.linear_model import LogisticRegression\n",
    "from sklearn.tree import DecisionTreeClassifier\n",
    "from sklearn.ensemble import RandomForestClassifier\n",
    "\n",
    "print(\"Libraries Imported without any error\")"
   ]
  },
  {
   "cell_type": "markdown",
   "id": "9bd5d0ba",
   "metadata": {},
   "source": [
    "#### It's time to import the dataset"
   ]
  },
  {
   "cell_type": "code",
   "execution_count": 3,
   "id": "e5f4cf8d",
   "metadata": {},
   "outputs": [],
   "source": [
    "df= pd.read_csv('test_strokes.csv')"
   ]
  },
  {
   "cell_type": "markdown",
   "id": "4954bc8a",
   "metadata": {},
   "source": [
    "Stroke dataset has been imported!\n"
   ]
  },
  {
   "cell_type": "markdown",
   "id": "6ab5528c",
   "metadata": {},
   "source": [
    "#### Now Let's Have a Look on the Imported Data!"
   ]
  },
  {
   "cell_type": "code",
   "execution_count": 4,
   "id": "e60fd4cf",
   "metadata": {
    "scrolled": true
   },
   "outputs": [
    {
     "data": {
      "text/html": [
       "<div>\n",
       "<style scoped>\n",
       "    .dataframe tbody tr th:only-of-type {\n",
       "        vertical-align: middle;\n",
       "    }\n",
       "\n",
       "    .dataframe tbody tr th {\n",
       "        vertical-align: top;\n",
       "    }\n",
       "\n",
       "    .dataframe thead th {\n",
       "        text-align: right;\n",
       "    }\n",
       "</style>\n",
       "<table border=\"1\" class=\"dataframe\">\n",
       "  <thead>\n",
       "    <tr style=\"text-align: right;\">\n",
       "      <th></th>\n",
       "      <th>id</th>\n",
       "      <th>gender</th>\n",
       "      <th>age</th>\n",
       "      <th>hypertension</th>\n",
       "      <th>heart_disease</th>\n",
       "      <th>ever_married</th>\n",
       "      <th>work_type</th>\n",
       "      <th>Residence_type</th>\n",
       "      <th>avg_glucose_level</th>\n",
       "      <th>bmi</th>\n",
       "      <th>smoking_status</th>\n",
       "      <th>stroke</th>\n",
       "    </tr>\n",
       "  </thead>\n",
       "  <tbody>\n",
       "    <tr>\n",
       "      <th>0</th>\n",
       "      <td>50049</td>\n",
       "      <td>Male</td>\n",
       "      <td>72.0</td>\n",
       "      <td>0</td>\n",
       "      <td>1</td>\n",
       "      <td>Yes</td>\n",
       "      <td>Private</td>\n",
       "      <td>Rural</td>\n",
       "      <td>141.72</td>\n",
       "      <td>33.0</td>\n",
       "      <td>NaN</td>\n",
       "      <td>1</td>\n",
       "    </tr>\n",
       "    <tr>\n",
       "      <th>1</th>\n",
       "      <td>37040</td>\n",
       "      <td>Female</td>\n",
       "      <td>79.0</td>\n",
       "      <td>0</td>\n",
       "      <td>0</td>\n",
       "      <td>Yes</td>\n",
       "      <td>Private</td>\n",
       "      <td>Urban</td>\n",
       "      <td>143.15</td>\n",
       "      <td>31.5</td>\n",
       "      <td>never smoked</td>\n",
       "      <td>1</td>\n",
       "    </tr>\n",
       "    <tr>\n",
       "      <th>2</th>\n",
       "      <td>24049</td>\n",
       "      <td>Male</td>\n",
       "      <td>73.0</td>\n",
       "      <td>0</td>\n",
       "      <td>1</td>\n",
       "      <td>Yes</td>\n",
       "      <td>Private</td>\n",
       "      <td>Urban</td>\n",
       "      <td>82.94</td>\n",
       "      <td>33.8</td>\n",
       "      <td>formerly smoked</td>\n",
       "      <td>1</td>\n",
       "    </tr>\n",
       "    <tr>\n",
       "      <th>3</th>\n",
       "      <td>40303</td>\n",
       "      <td>Male</td>\n",
       "      <td>70.0</td>\n",
       "      <td>0</td>\n",
       "      <td>0</td>\n",
       "      <td>Yes</td>\n",
       "      <td>Self-employed</td>\n",
       "      <td>Urban</td>\n",
       "      <td>77.14</td>\n",
       "      <td>25.1</td>\n",
       "      <td>smokes</td>\n",
       "      <td>1</td>\n",
       "    </tr>\n",
       "    <tr>\n",
       "      <th>4</th>\n",
       "      <td>22434</td>\n",
       "      <td>Male</td>\n",
       "      <td>78.0</td>\n",
       "      <td>0</td>\n",
       "      <td>0</td>\n",
       "      <td>Yes</td>\n",
       "      <td>Govt_job</td>\n",
       "      <td>Urban</td>\n",
       "      <td>105.47</td>\n",
       "      <td>21.6</td>\n",
       "      <td>formerly smoked</td>\n",
       "      <td>1</td>\n",
       "    </tr>\n",
       "  </tbody>\n",
       "</table>\n",
       "</div>"
      ],
      "text/plain": [
       "      id  gender   age  hypertension  heart_disease ever_married  \\\n",
       "0  50049    Male  72.0             0              1          Yes   \n",
       "1  37040  Female  79.0             0              0          Yes   \n",
       "2  24049    Male  73.0             0              1          Yes   \n",
       "3  40303    Male  70.0             0              0          Yes   \n",
       "4  22434    Male  78.0             0              0          Yes   \n",
       "\n",
       "       work_type Residence_type  avg_glucose_level   bmi   smoking_status  \\\n",
       "0        Private          Rural             141.72  33.0              NaN   \n",
       "1        Private          Urban             143.15  31.5     never smoked   \n",
       "2        Private          Urban              82.94  33.8  formerly smoked   \n",
       "3  Self-employed          Urban              77.14  25.1           smokes   \n",
       "4       Govt_job          Urban             105.47  21.6  formerly smoked   \n",
       "\n",
       "   stroke  \n",
       "0       1  \n",
       "1       1  \n",
       "2       1  \n",
       "3       1  \n",
       "4       1  "
      ]
     },
     "execution_count": 4,
     "metadata": {},
     "output_type": "execute_result"
    }
   ],
   "source": [
    "df.head()"
   ]
  },
  {
   "cell_type": "code",
   "execution_count": 5,
   "id": "8d12303e",
   "metadata": {},
   "outputs": [
    {
     "data": {
      "text/plain": [
       "(1800, 12)"
      ]
     },
     "execution_count": 5,
     "metadata": {},
     "output_type": "execute_result"
    }
   ],
   "source": [
    "df.shape"
   ]
  },
  {
   "cell_type": "markdown",
   "id": "9c41502c",
   "metadata": {},
   "source": [
    "Given Data has ->\n",
    "Rows: 5110 , \n",
    "Columns: 12"
   ]
  },
  {
   "cell_type": "code",
   "execution_count": 6,
   "id": "d3250ec6",
   "metadata": {},
   "outputs": [
    {
     "name": "stdout",
     "output_type": "stream",
     "text": [
      "<class 'pandas.core.frame.DataFrame'>\n",
      "RangeIndex: 1800 entries, 0 to 1799\n",
      "Data columns (total 12 columns):\n",
      " #   Column             Non-Null Count  Dtype  \n",
      "---  ------             --------------  -----  \n",
      " 0   id                 1800 non-null   int64  \n",
      " 1   gender             1800 non-null   object \n",
      " 2   age                1800 non-null   float64\n",
      " 3   hypertension       1800 non-null   int64  \n",
      " 4   heart_disease      1800 non-null   int64  \n",
      " 5   ever_married       1800 non-null   object \n",
      " 6   work_type          1800 non-null   object \n",
      " 7   Residence_type     1800 non-null   object \n",
      " 8   avg_glucose_level  1800 non-null   float64\n",
      " 9   bmi                1703 non-null   float64\n",
      " 10  smoking_status     1262 non-null   object \n",
      " 11  stroke             1800 non-null   int64  \n",
      "dtypes: float64(3), int64(4), object(5)\n",
      "memory usage: 168.9+ KB\n"
     ]
    }
   ],
   "source": [
    "df.info()"
   ]
  },
  {
   "cell_type": "markdown",
   "id": "1d8bc956",
   "metadata": {},
   "source": [
    "This function gives us information about the datatype of the existing columns"
   ]
  },
  {
   "cell_type": "markdown",
   "id": "15362173",
   "metadata": {},
   "source": [
    "#### Dropping the unnecessary feature (column):"
   ]
  },
  {
   "cell_type": "code",
   "execution_count": 7,
   "id": "5c91377b",
   "metadata": {},
   "outputs": [],
   "source": [
    "df = df.drop('id',axis=1)"
   ]
  },
  {
   "cell_type": "code",
   "execution_count": 8,
   "id": "bd6eb9b6",
   "metadata": {},
   "outputs": [
    {
     "name": "stdout",
     "output_type": "stream",
     "text": [
      "(1800, 11)\n"
     ]
    },
    {
     "data": {
      "text/html": [
       "<div>\n",
       "<style scoped>\n",
       "    .dataframe tbody tr th:only-of-type {\n",
       "        vertical-align: middle;\n",
       "    }\n",
       "\n",
       "    .dataframe tbody tr th {\n",
       "        vertical-align: top;\n",
       "    }\n",
       "\n",
       "    .dataframe thead th {\n",
       "        text-align: right;\n",
       "    }\n",
       "</style>\n",
       "<table border=\"1\" class=\"dataframe\">\n",
       "  <thead>\n",
       "    <tr style=\"text-align: right;\">\n",
       "      <th></th>\n",
       "      <th>gender</th>\n",
       "      <th>age</th>\n",
       "      <th>hypertension</th>\n",
       "      <th>heart_disease</th>\n",
       "      <th>ever_married</th>\n",
       "      <th>work_type</th>\n",
       "      <th>Residence_type</th>\n",
       "      <th>avg_glucose_level</th>\n",
       "      <th>bmi</th>\n",
       "      <th>smoking_status</th>\n",
       "      <th>stroke</th>\n",
       "    </tr>\n",
       "  </thead>\n",
       "  <tbody>\n",
       "    <tr>\n",
       "      <th>0</th>\n",
       "      <td>Male</td>\n",
       "      <td>72.0</td>\n",
       "      <td>0</td>\n",
       "      <td>1</td>\n",
       "      <td>Yes</td>\n",
       "      <td>Private</td>\n",
       "      <td>Rural</td>\n",
       "      <td>141.72</td>\n",
       "      <td>33.0</td>\n",
       "      <td>NaN</td>\n",
       "      <td>1</td>\n",
       "    </tr>\n",
       "    <tr>\n",
       "      <th>1</th>\n",
       "      <td>Female</td>\n",
       "      <td>79.0</td>\n",
       "      <td>0</td>\n",
       "      <td>0</td>\n",
       "      <td>Yes</td>\n",
       "      <td>Private</td>\n",
       "      <td>Urban</td>\n",
       "      <td>143.15</td>\n",
       "      <td>31.5</td>\n",
       "      <td>never smoked</td>\n",
       "      <td>1</td>\n",
       "    </tr>\n",
       "    <tr>\n",
       "      <th>2</th>\n",
       "      <td>Male</td>\n",
       "      <td>73.0</td>\n",
       "      <td>0</td>\n",
       "      <td>1</td>\n",
       "      <td>Yes</td>\n",
       "      <td>Private</td>\n",
       "      <td>Urban</td>\n",
       "      <td>82.94</td>\n",
       "      <td>33.8</td>\n",
       "      <td>formerly smoked</td>\n",
       "      <td>1</td>\n",
       "    </tr>\n",
       "    <tr>\n",
       "      <th>3</th>\n",
       "      <td>Male</td>\n",
       "      <td>70.0</td>\n",
       "      <td>0</td>\n",
       "      <td>0</td>\n",
       "      <td>Yes</td>\n",
       "      <td>Self-employed</td>\n",
       "      <td>Urban</td>\n",
       "      <td>77.14</td>\n",
       "      <td>25.1</td>\n",
       "      <td>smokes</td>\n",
       "      <td>1</td>\n",
       "    </tr>\n",
       "    <tr>\n",
       "      <th>4</th>\n",
       "      <td>Male</td>\n",
       "      <td>78.0</td>\n",
       "      <td>0</td>\n",
       "      <td>0</td>\n",
       "      <td>Yes</td>\n",
       "      <td>Govt_job</td>\n",
       "      <td>Urban</td>\n",
       "      <td>105.47</td>\n",
       "      <td>21.6</td>\n",
       "      <td>formerly smoked</td>\n",
       "      <td>1</td>\n",
       "    </tr>\n",
       "  </tbody>\n",
       "</table>\n",
       "</div>"
      ],
      "text/plain": [
       "   gender   age  hypertension  heart_disease ever_married      work_type  \\\n",
       "0    Male  72.0             0              1          Yes        Private   \n",
       "1  Female  79.0             0              0          Yes        Private   \n",
       "2    Male  73.0             0              1          Yes        Private   \n",
       "3    Male  70.0             0              0          Yes  Self-employed   \n",
       "4    Male  78.0             0              0          Yes       Govt_job   \n",
       "\n",
       "  Residence_type  avg_glucose_level   bmi   smoking_status  stroke  \n",
       "0          Rural             141.72  33.0              NaN       1  \n",
       "1          Urban             143.15  31.5     never smoked       1  \n",
       "2          Urban              82.94  33.8  formerly smoked       1  \n",
       "3          Urban              77.14  25.1           smokes       1  \n",
       "4          Urban             105.47  21.6  formerly smoked       1  "
      ]
     },
     "execution_count": 8,
     "metadata": {},
     "output_type": "execute_result"
    }
   ],
   "source": [
    "print(df.shape)\n",
    "df.head()"
   ]
  },
  {
   "cell_type": "markdown",
   "id": "70b607bc",
   "metadata": {},
   "source": [
    "We ahve successfully dropped the 'id' column"
   ]
  },
  {
   "cell_type": "code",
   "execution_count": 9,
   "id": "e351aefb",
   "metadata": {},
   "outputs": [
    {
     "data": {
      "text/plain": [
       "gender                 0\n",
       "age                    0\n",
       "hypertension           0\n",
       "heart_disease          0\n",
       "ever_married           0\n",
       "work_type              0\n",
       "Residence_type         0\n",
       "avg_glucose_level      0\n",
       "bmi                   97\n",
       "smoking_status       538\n",
       "stroke                 0\n",
       "dtype: int64"
      ]
     },
     "execution_count": 9,
     "metadata": {},
     "output_type": "execute_result"
    }
   ],
   "source": [
    "# Checking for any null (NaN) values:\n",
    "\n",
    "df.isnull().sum()"
   ]
  },
  {
   "cell_type": "markdown",
   "id": "e98bc361",
   "metadata": {},
   "source": [
    "So, this dataset has only Null values present in 'bmi' Column"
   ]
  },
  {
   "cell_type": "markdown",
   "id": "24588cf8",
   "metadata": {},
   "source": [
    "#### Filling the NaN Values in BMI feature with the mean values "
   ]
  },
  {
   "cell_type": "code",
   "execution_count": 10,
   "id": "066ff5ec",
   "metadata": {},
   "outputs": [
    {
     "data": {
      "text/plain": [
       "gender               0\n",
       "age                  0\n",
       "hypertension         0\n",
       "heart_disease        0\n",
       "ever_married         0\n",
       "work_type            0\n",
       "Residence_type       0\n",
       "avg_glucose_level    0\n",
       "bmi                  0\n",
       "smoking_status       0\n",
       "stroke               0\n",
       "dtype: int64"
      ]
     },
     "execution_count": 10,
     "metadata": {},
     "output_type": "execute_result"
    }
   ],
   "source": [
    "df['bmi'] = df['bmi'].fillna(df['bmi'].median())\n",
    "df['smoking_status'].fillna('Unknown', inplace=True)\n",
    "df.isnull().sum()"
   ]
  },
  {
   "cell_type": "markdown",
   "id": "55809246",
   "metadata": {},
   "source": [
    "Now, We can see all the Null values has been filled with some numerical values"
   ]
  },
  {
   "cell_type": "markdown",
   "id": "efa93bc2",
   "metadata": {},
   "source": [
    "#### Target Featuring"
   ]
  },
  {
   "cell_type": "code",
   "execution_count": 11,
   "id": "5245af36",
   "metadata": {},
   "outputs": [
    {
     "name": "stdout",
     "output_type": "stream",
     "text": [
      "Stroke People     :  289\n",
      "Non-Stroke People :  1511\n"
     ]
    }
   ],
   "source": [
    "print(\"Stroke People     : \", df['stroke'].value_counts()[1])\n",
    "print(\"Non-Stroke People : \", df['stroke'].value_counts()[0])"
   ]
  },
  {
   "cell_type": "markdown",
   "id": "c19e45d5",
   "metadata": {},
   "source": [
    "* By seeing target feature, We clearly say we have **imbalanced dataset.**"
   ]
  },
  {
   "cell_type": "code",
   "execution_count": 12,
   "id": "a1c17236",
   "metadata": {},
   "outputs": [
    {
     "data": {
      "text/plain": [
       "Female    1048\n",
       "Male       752\n",
       "Name: gender, dtype: int64"
      ]
     },
     "execution_count": 12,
     "metadata": {},
     "output_type": "execute_result"
    }
   ],
   "source": [
    "# Gender\n",
    "df['gender'].value_counts()"
   ]
  },
  {
   "cell_type": "markdown",
   "id": "6e9843ed",
   "metadata": {},
   "source": [
    "We Seen that in our **Gender feature**, we have only one **Other** gender, So instead of taking we **drop** that record."
   ]
  },
  {
   "cell_type": "code",
   "execution_count": 13,
   "id": "d4026fec",
   "metadata": {},
   "outputs": [
    {
     "name": "stdout",
     "output_type": "stream",
     "text": [
      "No rows found with gender 'Other'\n"
     ]
    },
    {
     "data": {
      "text/plain": [
       "Female    1048\n",
       "Male       752\n",
       "Name: gender, dtype: int64"
      ]
     },
     "execution_count": 13,
     "metadata": {},
     "output_type": "execute_result"
    }
   ],
   "source": [
    "other_gender_indices = df[df['gender'] == 'Other'].index\n",
    "\n",
    "if len(other_gender_indices) > 0:\n",
    "    other_gender = other_gender_indices[0]\n",
    "    df = df.drop(other_gender, axis=0)\n",
    "else:\n",
    "    print(\"No rows found with gender 'Other'\")\n",
    "    \n",
    "df['gender'].value_counts()"
   ]
  },
  {
   "cell_type": "markdown",
   "id": "548b4ceb",
   "metadata": {},
   "source": [
    "We can clearly see that other value has been removed"
   ]
  },
  {
   "cell_type": "code",
   "execution_count": 14,
   "id": "f60fa900",
   "metadata": {},
   "outputs": [
    {
     "name": "stdout",
     "output_type": "stream",
     "text": [
      "Male    :  752\n",
      "female  :  1048\n"
     ]
    }
   ],
   "source": [
    "# Gender:\n",
    "print(\"Male    : \", df['gender'].value_counts()[1])\n",
    "print(\"female  : \", df['gender'].value_counts()[0])"
   ]
  },
  {
   "cell_type": "code",
   "execution_count": 15,
   "id": "59269085",
   "metadata": {},
   "outputs": [],
   "source": [
    "# Rename some names in smokers feature for simplacity nothing else:\n",
    "df.replace({'never smoked':'never_smoked', 'formerly smoked':'formerly_smoked'}, inplace=True)"
   ]
  },
  {
   "cell_type": "code",
   "execution_count": 16,
   "id": "9f4e9a5e",
   "metadata": {},
   "outputs": [
    {
     "name": "stdout",
     "output_type": "stream",
     "text": [
      "<class 'pandas.core.frame.DataFrame'>\n",
      "RangeIndex: 1800 entries, 0 to 1799\n",
      "Data columns (total 11 columns):\n",
      " #   Column             Non-Null Count  Dtype  \n",
      "---  ------             --------------  -----  \n",
      " 0   gender             1800 non-null   object \n",
      " 1   age                1800 non-null   float64\n",
      " 2   hypertension       1800 non-null   int64  \n",
      " 3   heart_disease      1800 non-null   int64  \n",
      " 4   ever_married       1800 non-null   object \n",
      " 5   work_type          1800 non-null   object \n",
      " 6   Residence_type     1800 non-null   object \n",
      " 7   avg_glucose_level  1800 non-null   float64\n",
      " 8   bmi                1800 non-null   float64\n",
      " 9   smoking_status     1800 non-null   object \n",
      " 10  stroke             1800 non-null   int64  \n",
      "dtypes: float64(3), int64(3), object(5)\n",
      "memory usage: 154.8+ KB\n"
     ]
    }
   ],
   "source": [
    "df.head()\n",
    "df.info()"
   ]
  },
  {
   "cell_type": "code",
   "execution_count": 17,
   "id": "71f1db7e",
   "metadata": {},
   "outputs": [
    {
     "data": {
      "text/plain": [
       "Index(['age', 'hypertension', 'heart_disease', 'avg_glucose_level', 'bmi',\n",
       "       'stroke'],\n",
       "      dtype='object')"
      ]
     },
     "execution_count": 17,
     "metadata": {},
     "output_type": "execute_result"
    }
   ],
   "source": [
    "num_features = df.select_dtypes(exclude=['object']).columns\n",
    "num_features"
   ]
  },
  {
   "cell_type": "code",
   "execution_count": 18,
   "id": "ab242c86",
   "metadata": {},
   "outputs": [],
   "source": [
    "num_transformer = Pipeline(steps=[\n",
    "    ('impute', SimpleImputer(strategy='mean'))\n",
    "])"
   ]
  },
  {
   "cell_type": "code",
   "execution_count": 19,
   "id": "aa918b7a",
   "metadata": {},
   "outputs": [
    {
     "data": {
      "text/plain": [
       "Index(['gender', 'ever_married', 'work_type', 'Residence_type',\n",
       "       'smoking_status'],\n",
       "      dtype='object')"
      ]
     },
     "execution_count": 19,
     "metadata": {},
     "output_type": "execute_result"
    }
   ],
   "source": [
    "cat_features = df.select_dtypes(include =['object']).columns\n",
    "cat_features"
   ]
  },
  {
   "cell_type": "code",
   "execution_count": 20,
   "id": "b1c1a6cb",
   "metadata": {},
   "outputs": [],
   "source": [
    "cat_transformer = Pipeline(steps=[\n",
    "    ('impute', SimpleImputer(strategy='most_frequent')),\n",
    "    ('onehot', OneHotEncoder(drop='first', sparse=False))\n",
    "])"
   ]
  },
  {
   "cell_type": "code",
   "execution_count": 21,
   "id": "7f520d42",
   "metadata": {},
   "outputs": [],
   "source": [
    "# Creating the preprocessing pipeline\n",
    "preprocess_pipeline = ColumnTransformer(transformers=[\n",
    "    ('num', num_transformer, num_features),\n",
    "    ('cat', cat_transformer, cat_features)\n",
    "])\n"
   ]
  },
  {
   "cell_type": "code",
   "execution_count": 22,
   "id": "dd8f1df2",
   "metadata": {},
   "outputs": [
    {
     "name": "stderr",
     "output_type": "stream",
     "text": [
      "C:\\Users\\hp\\anaconda3\\lib\\site-packages\\sklearn\\preprocessing\\_encoders.py:828: FutureWarning: `sparse` was renamed to `sparse_output` in version 1.2 and will be removed in 1.4. `sparse_output` is ignored unless you leave `sparse` to its default value.\n",
      "  warnings.warn(\n"
     ]
    }
   ],
   "source": [
    "processed = preprocess_pipeline.fit_transform(df)"
   ]
  },
  {
   "cell_type": "code",
   "execution_count": 35,
   "id": "94487590",
   "metadata": {},
   "outputs": [
    {
     "data": {
      "text/plain": [
       "['age',\n",
       " 'hypertension',\n",
       " 'heart_disease',\n",
       " 'avg_glucose_level',\n",
       " 'bmi',\n",
       " 'stroke',\n",
       " 'gender_Male',\n",
       " 'ever_married_Yes',\n",
       " 'work_type_Never_worked',\n",
       " 'work_type_Private',\n",
       " 'work_type_Self-employed',\n",
       " 'work_type_children',\n",
       " 'Residence_type_Urban',\n",
       " 'smoking_status_formerly_smoked',\n",
       " 'smoking_status_never_smoked',\n",
       " 'smoking_status_smokes']"
      ]
     },
     "execution_count": 35,
     "metadata": {},
     "output_type": "execute_result"
    }
   ],
   "source": [
    "# Create a new DataFrame with the preprocessed data and column names\n",
    "df = pd.DataFrame(processed, columns=list(num_features) + list(preprocess_pipeline.named_transformers_['cat']['onehot'].get_feature_names_out(cat_features)))\n",
    "transformed_feature_names"
   ]
  },
  {
   "cell_type": "code",
   "execution_count": 36,
   "id": "474ddada",
   "metadata": {},
   "outputs": [
    {
     "data": {
      "text/plain": [
       "Index(['age', 'hypertension', 'heart_disease', 'avg_glucose_level', 'bmi',\n",
       "       'stroke', 'gender_Male', 'ever_married_Yes', 'work_type_Never_worked',\n",
       "       'work_type_Private', 'work_type_Self-employed', 'work_type_children',\n",
       "       'Residence_type_Urban', 'smoking_status_formerly_smoked',\n",
       "       'smoking_status_never_smoked', 'smoking_status_smokes'],\n",
       "      dtype='object')"
      ]
     },
     "execution_count": 36,
     "metadata": {},
     "output_type": "execute_result"
    }
   ],
   "source": [
    "df.columns"
   ]
  },
  {
   "cell_type": "code",
   "execution_count": 38,
   "id": "4882be71",
   "metadata": {},
   "outputs": [],
   "source": [
    "# Rearranging the columns for better understanding\n",
    "df = df[['gender_Male','age', 'hypertension', 'heart_disease', 'ever_married_Yes',\n",
    "       'Residence_type_Urban', 'avg_glucose_level', 'bmi', \n",
    "       'work_type_Never_worked', 'work_type_Private','work_type_Self-employed', 'work_type_children','smoking_status_formerly_smoked', 'smoking_status_never_smoked','smoking_status_smokes','stroke']]"
   ]
  },
  {
   "cell_type": "code",
   "execution_count": 39,
   "id": "d7ba3d4c",
   "metadata": {},
   "outputs": [
    {
     "data": {
      "text/html": [
       "<div>\n",
       "<style scoped>\n",
       "    .dataframe tbody tr th:only-of-type {\n",
       "        vertical-align: middle;\n",
       "    }\n",
       "\n",
       "    .dataframe tbody tr th {\n",
       "        vertical-align: top;\n",
       "    }\n",
       "\n",
       "    .dataframe thead th {\n",
       "        text-align: right;\n",
       "    }\n",
       "</style>\n",
       "<table border=\"1\" class=\"dataframe\">\n",
       "  <thead>\n",
       "    <tr style=\"text-align: right;\">\n",
       "      <th></th>\n",
       "      <th>gender_Male</th>\n",
       "      <th>age</th>\n",
       "      <th>hypertension</th>\n",
       "      <th>heart_disease</th>\n",
       "      <th>ever_married_Yes</th>\n",
       "      <th>Residence_type_Urban</th>\n",
       "      <th>avg_glucose_level</th>\n",
       "      <th>bmi</th>\n",
       "      <th>work_type_Never_worked</th>\n",
       "      <th>work_type_Private</th>\n",
       "      <th>work_type_Self-employed</th>\n",
       "      <th>work_type_children</th>\n",
       "      <th>smoking_status_formerly_smoked</th>\n",
       "      <th>smoking_status_never_smoked</th>\n",
       "      <th>smoking_status_smokes</th>\n",
       "      <th>stroke</th>\n",
       "    </tr>\n",
       "  </thead>\n",
       "  <tbody>\n",
       "    <tr>\n",
       "      <th>0</th>\n",
       "      <td>1.0</td>\n",
       "      <td>72.0</td>\n",
       "      <td>0.0</td>\n",
       "      <td>1.0</td>\n",
       "      <td>1.0</td>\n",
       "      <td>0.0</td>\n",
       "      <td>141.72</td>\n",
       "      <td>33.0</td>\n",
       "      <td>0.0</td>\n",
       "      <td>1.0</td>\n",
       "      <td>0.0</td>\n",
       "      <td>0.0</td>\n",
       "      <td>0.0</td>\n",
       "      <td>0.0</td>\n",
       "      <td>0.0</td>\n",
       "      <td>1.0</td>\n",
       "    </tr>\n",
       "    <tr>\n",
       "      <th>1</th>\n",
       "      <td>0.0</td>\n",
       "      <td>79.0</td>\n",
       "      <td>0.0</td>\n",
       "      <td>0.0</td>\n",
       "      <td>1.0</td>\n",
       "      <td>1.0</td>\n",
       "      <td>143.15</td>\n",
       "      <td>31.5</td>\n",
       "      <td>0.0</td>\n",
       "      <td>1.0</td>\n",
       "      <td>0.0</td>\n",
       "      <td>0.0</td>\n",
       "      <td>0.0</td>\n",
       "      <td>1.0</td>\n",
       "      <td>0.0</td>\n",
       "      <td>1.0</td>\n",
       "    </tr>\n",
       "    <tr>\n",
       "      <th>2</th>\n",
       "      <td>1.0</td>\n",
       "      <td>73.0</td>\n",
       "      <td>0.0</td>\n",
       "      <td>1.0</td>\n",
       "      <td>1.0</td>\n",
       "      <td>1.0</td>\n",
       "      <td>82.94</td>\n",
       "      <td>33.8</td>\n",
       "      <td>0.0</td>\n",
       "      <td>1.0</td>\n",
       "      <td>0.0</td>\n",
       "      <td>0.0</td>\n",
       "      <td>1.0</td>\n",
       "      <td>0.0</td>\n",
       "      <td>0.0</td>\n",
       "      <td>1.0</td>\n",
       "    </tr>\n",
       "    <tr>\n",
       "      <th>3</th>\n",
       "      <td>1.0</td>\n",
       "      <td>70.0</td>\n",
       "      <td>0.0</td>\n",
       "      <td>0.0</td>\n",
       "      <td>1.0</td>\n",
       "      <td>1.0</td>\n",
       "      <td>77.14</td>\n",
       "      <td>25.1</td>\n",
       "      <td>0.0</td>\n",
       "      <td>0.0</td>\n",
       "      <td>1.0</td>\n",
       "      <td>0.0</td>\n",
       "      <td>0.0</td>\n",
       "      <td>0.0</td>\n",
       "      <td>1.0</td>\n",
       "      <td>1.0</td>\n",
       "    </tr>\n",
       "    <tr>\n",
       "      <th>4</th>\n",
       "      <td>1.0</td>\n",
       "      <td>78.0</td>\n",
       "      <td>0.0</td>\n",
       "      <td>0.0</td>\n",
       "      <td>1.0</td>\n",
       "      <td>1.0</td>\n",
       "      <td>105.47</td>\n",
       "      <td>21.6</td>\n",
       "      <td>0.0</td>\n",
       "      <td>0.0</td>\n",
       "      <td>0.0</td>\n",
       "      <td>0.0</td>\n",
       "      <td>1.0</td>\n",
       "      <td>0.0</td>\n",
       "      <td>0.0</td>\n",
       "      <td>1.0</td>\n",
       "    </tr>\n",
       "  </tbody>\n",
       "</table>\n",
       "</div>"
      ],
      "text/plain": [
       "   gender_Male   age  hypertension  heart_disease  ever_married_Yes  \\\n",
       "0          1.0  72.0           0.0            1.0               1.0   \n",
       "1          0.0  79.0           0.0            0.0               1.0   \n",
       "2          1.0  73.0           0.0            1.0               1.0   \n",
       "3          1.0  70.0           0.0            0.0               1.0   \n",
       "4          1.0  78.0           0.0            0.0               1.0   \n",
       "\n",
       "   Residence_type_Urban  avg_glucose_level   bmi  work_type_Never_worked  \\\n",
       "0                   0.0             141.72  33.0                     0.0   \n",
       "1                   1.0             143.15  31.5                     0.0   \n",
       "2                   1.0              82.94  33.8                     0.0   \n",
       "3                   1.0              77.14  25.1                     0.0   \n",
       "4                   1.0             105.47  21.6                     0.0   \n",
       "\n",
       "   work_type_Private  work_type_Self-employed  work_type_children  \\\n",
       "0                1.0                      0.0                 0.0   \n",
       "1                1.0                      0.0                 0.0   \n",
       "2                1.0                      0.0                 0.0   \n",
       "3                0.0                      1.0                 0.0   \n",
       "4                0.0                      0.0                 0.0   \n",
       "\n",
       "   smoking_status_formerly_smoked  smoking_status_never_smoked  \\\n",
       "0                             0.0                          0.0   \n",
       "1                             0.0                          1.0   \n",
       "2                             1.0                          0.0   \n",
       "3                             0.0                          0.0   \n",
       "4                             1.0                          0.0   \n",
       "\n",
       "   smoking_status_smokes  stroke  \n",
       "0                    0.0     1.0  \n",
       "1                    0.0     1.0  \n",
       "2                    0.0     1.0  \n",
       "3                    1.0     1.0  \n",
       "4                    0.0     1.0  "
      ]
     },
     "execution_count": 39,
     "metadata": {},
     "output_type": "execute_result"
    }
   ],
   "source": [
    "df.head()"
   ]
  },
  {
   "cell_type": "code",
   "execution_count": 25,
   "id": "2e1bc416",
   "metadata": {},
   "outputs": [],
   "source": [
    "df.to_csv('test_data.csv', index=False)"
   ]
  },
  {
   "cell_type": "markdown",
   "id": "360ce71b",
   "metadata": {},
   "source": [
    "# We have done with the preprocesing of the dataset.\n",
    "\n",
    "# Now in the notebook we'll do EDA and see data visually"
   ]
  },
  {
   "cell_type": "code",
   "execution_count": null,
   "id": "21ff74c3",
   "metadata": {},
   "outputs": [],
   "source": []
  }
 ],
 "metadata": {
  "kernelspec": {
   "display_name": "Python 3 (ipykernel)",
   "language": "python",
   "name": "python3"
  },
  "language_info": {
   "codemirror_mode": {
    "name": "ipython",
    "version": 3
   },
   "file_extension": ".py",
   "mimetype": "text/x-python",
   "name": "python",
   "nbconvert_exporter": "python",
   "pygments_lexer": "ipython3",
   "version": "3.10.9"
  }
 },
 "nbformat": 4,
 "nbformat_minor": 5
}
